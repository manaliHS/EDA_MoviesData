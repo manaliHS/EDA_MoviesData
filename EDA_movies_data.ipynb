{
 "cells": [
  {
   "cell_type": "markdown",
   "id": "legal-rainbow",
   "metadata": {},
   "source": [
    "## 1000 movies data"
   ]
  },
  {
   "cell_type": "code",
   "execution_count": null,
   "id": "vertical-anchor",
   "metadata": {},
   "outputs": [],
   "source": [
    "file='https://raw.githubusercontent.com/insaid2018/Term-1/master/Data/Projects/1000%20movies%20data.csv'"
   ]
  },
  {
   "cell_type": "markdown",
   "id": "desperate-detroit",
   "metadata": {},
   "source": [
    "# "
   ]
  }
 ],
 "metadata": {
  "kernelspec": {
   "display_name": "Python 3",
   "language": "python",
   "name": "python3"
  },
  "language_info": {
   "codemirror_mode": {
    "name": "ipython",
    "version": 3
   },
   "file_extension": ".py",
   "mimetype": "text/x-python",
   "name": "python",
   "nbconvert_exporter": "python",
   "pygments_lexer": "ipython3",
   "version": "3.7.10"
  }
 },
 "nbformat": 4,
 "nbformat_minor": 5
}
